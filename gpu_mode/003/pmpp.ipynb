{
 "cells": [
  {
   "cell_type": "markdown",
   "id": "6d251bcf",
   "metadata": {},
   "source": [
    "## setup"
   ]
  },
  {
   "cell_type": "code",
   "execution_count": null,
   "id": "acac18b4",
   "metadata": {},
   "outputs": [],
   "source": [
    "import torch, os, math\n",
    "import torchvision as tv\n",
    "import torchvision.transforms.functional as tvf\n",
    "from torchvision import io\n",
    "import matplotlib.pyplot as plt\n",
    "from torch.utils.cpp_extension import load_inline"
   ]
  },
  {
   "cell_type": "code",
   "execution_count": null,
   "id": "1e6b6dfb",
   "metadata": {},
   "outputs": [],
   "source": [
    "def show_img(x, figsize=(4,3), **kwargs):\n",
    "    plt.figure(figsize=figsize)\n",
    "    plt.axis('off')\n",
    "    if len(x.shape)==3: x = x.permute(1,2,0)  # CHW -> HWC\n",
    "    plt.imshow(x.cpu(), **kwargs)\n"
   ]
  },
  {
   "cell_type": "code",
   "execution_count": null,
   "id": "973b5531",
   "metadata": {},
   "outputs": [],
   "source": [
    "img = io.read_image('puppy.jpg')\n",
    "print(img.shape)\n",
    "img[:2,:3,:4]\n",
    "\n",
    "img2 = tvf.resize(img, 150, antialias=True)\n",
    "ch,h,w = img2.shape\n",
    "ch,h,w,h*w"
   ]
  },
  {
   "cell_type": "code",
   "execution_count": null,
   "id": "321127fb",
   "metadata": {},
   "outputs": [],
   "source": [
    "# RBG-> GRAY\n",
    "# basic python\n",
    "\n",
    "def rgb2grey_py(x):\n",
    "    c,h,w = x.shape\n",
    "    n = h*w\n",
    "    x = x.flatten()\n",
    "    res = torch.empty(n, dtype=x.dtype, device=x.device)\n",
    "    for i in range(n): res[i] = 0.2989*x[i] + 0.5870*x[i+n] + 0.1140*x[i+2*n]\n",
    "    return res.view(h,w)"
   ]
  },
  {
   "cell_type": "code",
   "execution_count": null,
   "id": "d2e0bbda",
   "metadata": {},
   "outputs": [],
   "source": [
    "%%time\n",
    "img_g = rgb2grey_py(img2)"
   ]
  },
  {
   "cell_type": "code",
   "execution_count": null,
   "id": "2f549b7d",
   "metadata": {},
   "outputs": [],
   "source": [
    "show_img(img_g, cmap='gray')"
   ]
  },
  {
   "cell_type": "code",
   "execution_count": null,
   "id": "88439eb3",
   "metadata": {},
   "outputs": [],
   "source": [
    "# python kernel\n",
    "def run_kernel(f, times, *args):\n",
    "    for i in range(times): f(i, *args)\n",
    "\n",
    "def rgb2grey_k(i, x, out, n):\n",
    "    out[i] = 0.2989*x[i] + 0.5870*x[i+n] + 0.1140*x[i+2*n]\n",
    "\n",
    "\n",
    "def rgb2grey_pyk(x):\n",
    "    c,h,w = x.shape\n",
    "    n = h*w\n",
    "    x = x.flatten()\n",
    "    res = torch.empty(n, dtype=x.dtype, device=x.device)\n",
    "    run_kernel(rgb2grey_k, h*w, x, res, n)\n",
    "    return res.view(h,w)\n"
   ]
  },
  {
   "cell_type": "code",
   "execution_count": null,
   "id": "684a5d80",
   "metadata": {},
   "outputs": [],
   "source": [
    "img_g = rgb2grey_pyk(img2)\n",
    "show_img(img_g, cmap='gray')"
   ]
  },
  {
   "cell_type": "code",
   "execution_count": null,
   "id": "f5b7bd6c",
   "metadata": {},
   "outputs": [],
   "source": [
    "def blk_kernel(f, blocks, threads, *args):\n",
    "    for i in range(blocks):\n",
    "        for j in range(threads): f(i, j, threads, *args)\n",
    "\n",
    "def rgb2grey_bk(blockidx, threadidx, blockdim, x, out, n):\n",
    "    i = blockidx*blockdim + threadidx\n",
    "    if i<n: out[i] = 0.2989*x[i] + 0.5870*x[i+n] + 0.1140*x[i+2*n]\n",
    "\n",
    "def rgb2grey_pybk(x):\n",
    "    c,h,w = x.shape\n",
    "    n = h*w\n",
    "    x = x.flatten()\n",
    "    res = torch.empty(n, dtype=x.dtype, device=x.device)\n",
    "    threads = 256\n",
    "    blocks = int(math.ceil(h*w/threads))\n",
    "    blk_kernel(rgb2grey_bk, blocks, threads, x, res, n)\n",
    "    return res.view(h,w)"
   ]
  },
  {
   "cell_type": "code",
   "execution_count": null,
   "id": "c1403e77",
   "metadata": {},
   "outputs": [],
   "source": [
    "%%time\n",
    "img_g = rgb2grey_pybk(img2)"
   ]
  },
  {
   "cell_type": "code",
   "execution_count": null,
   "id": "0fc7222d",
   "metadata": {},
   "outputs": [],
   "source": [
    "# cuda\n",
    "os.environ['CUDA_LAUNCH_BLOCKING']='1'\n",
    "# Wurlitzer 提供了一种优雅的方式来捕获由C级函数产生的标准输出（stdout）和错误输出（stderr）\n",
    "! conda install -c anaconda wurlitzer\n",
    "%load_ext wurlitzer"
   ]
  },
  {
   "cell_type": "code",
   "execution_count": null,
   "id": "2095fad7",
   "metadata": {},
   "outputs": [],
   "source": [
    "def load_cuda(cuda_src, cpp_src, funcs, opt=False, verbose=False):\n",
    "    return load_inline(cuda_sources=[cuda_src], cpp_sources=[cpp_src], functions=funcs,\n",
    "                       extra_cuda_cflags=[\"-O2\"] if opt else [], verbose=verbose, name=\"inline_ext\")"
   ]
  },
  {
   "cell_type": "code",
   "execution_count": null,
   "id": "87065b8f",
   "metadata": {},
   "outputs": [],
   "source": [
    "cuda_begin = r'''\n",
    "#include <torch/extension.h>\n",
    "#include <stdio.h>\n",
    "#include <c10/cuda/CUDAException.h>\n",
    "\n",
    "#define CHECK_CUDA(x) TORCH_CHECK(x.device().is_cuda(), #x \" must be a CUDA tensor\")\n",
    "#define CHECK_CONTIGUOUS(x) TORCH_CHECK(x.is_contiguous(), #x \" must be contiguous\")\n",
    "#define CHECK_INPUT(x) CHECK_CUDA(x); CHECK_CONTIGUOUS(x)\n",
    "\n",
    "inline unsigned int cdiv(unsigned int a, unsigned int b) { return (a + b - 1) / b;}\n",
    "'''"
   ]
  },
  {
   "cell_type": "code",
   "execution_count": null,
   "id": "d33122c8",
   "metadata": {},
   "outputs": [],
   "source": [
    "cuda_src = cuda_begin + r'''\n",
    "__global__ void rgb_to_grayscale_kernel(unsigned char* x, unsigned char* out, int n) {\n",
    "    int i = blockIdx.x*blockDim.x + threadIdx.x;\n",
    "    if (i<n) out[i] = 0.2989*x[i] + 0.5870*x[i+n] + 0.1140*x[i+2*n];\n",
    "}\n",
    "\n",
    "torch::Tensor rgb_to_grayscale(torch::Tensor input) {\n",
    "    CHECK_INPUT(input);\n",
    "    int h = input.size(1);\n",
    "    int w = input.size(2);\n",
    "    printf(\"h*w: %d*%d\\n\", h, w);\n",
    "    auto output = torch::empty({h,w}, input.options());\n",
    "    int threads = 256;\n",
    "    rgb_to_grayscale_kernel<<<cdiv(w*h,threads), threads>>>(\n",
    "        input.data_ptr<unsigned char>(), output.data_ptr<unsigned char>(), w*h);\n",
    "    C10_CUDA_KERNEL_LAUNCH_CHECK();\n",
    "    return output;\n",
    "}'''\n",
    "\n",
    "cpp_src = \"torch::Tensor rgb_to_grayscale(torch::Tensor input);\""
   ]
  },
  {
   "cell_type": "code",
   "execution_count": null,
   "id": "95390d76",
   "metadata": {},
   "outputs": [],
   "source": [
    "module = load_cuda(cuda_src, cpp_src, ['rgb_to_grayscale'], verbose=True)"
   ]
  },
  {
   "cell_type": "code",
   "execution_count": null,
   "id": "926cba2f",
   "metadata": {},
   "outputs": [],
   "source": [
    "[o for o in dir(module) if o[0]!='_']"
   ]
  },
  {
   "cell_type": "code",
   "execution_count": null,
   "id": "d788e1d8",
   "metadata": {},
   "outputs": [],
   "source": [
    "imgc = img.contiguous().cuda()"
   ]
  },
  {
   "cell_type": "code",
   "execution_count": null,
   "id": "6da5e6e6",
   "metadata": {},
   "outputs": [],
   "source": [
    "%%time\n",
    "# 以自定义的设置（运行R次，每一次N遍）来运行代码并计时\n",
    "res = module.rgb_to_grayscale(imgc).cpu()\n",
    "h,w = res.shape\n",
    "h,w,h*w"
   ]
  },
  {
   "cell_type": "code",
   "execution_count": null,
   "id": "737b8c43",
   "metadata": {},
   "outputs": [],
   "source": [
    "# get data\n",
    "import gzip,pickle\n",
    "from urllib.request import urlretrieve\n",
    "from pathlib import Path\n",
    "from torch import tensor\n",
    "\n",
    "# 下载\n",
    "MNIST_URL='https://github.moeyy.xyz/https://github.com/mnielsen/neural-networks-and-deep-learning/blob/master/data/mnist.pkl.gz?raw=true'\n",
    "path_data = Path('data')\n",
    "path_data.mkdir(exist_ok=True)\n",
    "path_gz = path_data/'mnist.pkl.gz'\n",
    "if not path_gz.exists(): urlretrieve(MNIST_URL, path_gz)\n",
    "\n",
    "# 解压\n",
    "with gzip.open(path_gz, 'rb') as f: ((x_train, y_train), (x_valid, y_valid), _) = pickle.load(f, encoding='latin-1')\n",
    "x_train,y_train,x_valid,y_valid = map(tensor, (x_train,y_train,x_valid,y_valid))\n",
    "x_train.shape,x_train.type()"
   ]
  },
  {
   "cell_type": "code",
   "execution_count": null,
   "id": "462ec12f",
   "metadata": {},
   "outputs": [],
   "source": [
    "imgs = x_train.reshape((-1,28,28))\n",
    "imgs.shape\n",
    "\n",
    "torch.manual_seed(1)\n",
    "weights = torch.randn(784,10)\n",
    "weights"
   ]
  },
  {
   "cell_type": "code",
   "execution_count": null,
   "id": "942c7f93",
   "metadata": {},
   "outputs": [],
   "source": [
    "# python matmul\n",
    "m1 = x_valid[:5]\n",
    "m2 = weights\n",
    "m1.shape,m2.shape\n",
    "\n",
    "ar,ac = m1.shape # n_rows * n_cols\n",
    "br,bc = m2.shape\n",
    "(ar,ac),(br,bc)\n",
    "\n",
    "t1 = torch.zeros(ar, bc)\n",
    "t1.shape"
   ]
  },
  {
   "cell_type": "code",
   "execution_count": null,
   "id": "f427de3c",
   "metadata": {},
   "outputs": [],
   "source": [
    "for i in range(ar):         # 5\n",
    "    for j in range(bc):     # 10\n",
    "        for k in range(ac): # 784\n",
    "            t1[i,j] += m1[i,k] * m2[k,j]"
   ]
  },
  {
   "cell_type": "code",
   "execution_count": null,
   "id": "2640f67f",
   "metadata": {},
   "outputs": [],
   "source": [
    "t1.shape"
   ]
  },
  {
   "cell_type": "code",
   "execution_count": null,
   "id": "c4675ab7",
   "metadata": {},
   "outputs": [],
   "source": [
    "import numpy as np\n",
    "np.set_printoptions(precision=2, linewidth=140)\n",
    "torch.set_printoptions(precision=2, linewidth=140, sci_mode=False)"
   ]
  },
  {
   "cell_type": "code",
   "execution_count": null,
   "id": "55e31dc7",
   "metadata": {},
   "outputs": [],
   "source": [
    "t1"
   ]
  },
  {
   "cell_type": "code",
   "execution_count": null,
   "id": "a6360970",
   "metadata": {},
   "outputs": [],
   "source": [
    "def matmul(a,b):\n",
    "    (ar,ac),(br,bc) = a.shape,b.shape\n",
    "    c = torch.zeros(ar, bc)\n",
    "    for i in range(ar):\n",
    "        for j in range(bc):\n",
    "            for k in range(ac): c[i,j] += a[i,k] * b[k,j]\n",
    "    return c"
   ]
  },
  {
   "cell_type": "code",
   "execution_count": null,
   "id": "52152cc1",
   "metadata": {},
   "outputs": [],
   "source": [
    "%time _=matmul(m1, m2)"
   ]
  },
  {
   "cell_type": "code",
   "execution_count": null,
   "id": "f0673ebc",
   "metadata": {},
   "outputs": [],
   "source": [
    "ar*bc*ac"
   ]
  },
  {
   "cell_type": "code",
   "execution_count": null,
   "id": "73f9da87",
   "metadata": {},
   "outputs": [],
   "source": [
    "#python kernel\n",
    "\n",
    "from types import SimpleNamespace as ns\n",
    "\n",
    "def blk_kernel2d(f, blocks, threads, *args):\n",
    "    for i0 in range(blocks.y):\n",
    "        for i1 in range(blocks.x):\n",
    "            for j0 in range(threads.y):\n",
    "                for j1 in range(threads.x): f(ns(x=i1,y=i0), ns(x=j1,y=j0), threads, *args)\n",
    "\n",
    "\n",
    "def matmul_bk(blockidx, threadidx, blockdim, m, n, out, h, w, k):\n",
    "    r = blockidx.y*blockdim.y + threadidx.y\n",
    "    c = blockidx.x*blockdim.x + threadidx.x\n",
    "\n",
    "    if (r>=h or c>=w): return\n",
    "    o = 0.\n",
    "    for i in range(k): o += m[r*k+i] * n[i*w+c]\n",
    "    out[r*w+c] = o\n",
    "\n",
    "def matmul_2d(m, n):\n",
    "    h,k  = m.shape\n",
    "    k2,w = n.shape\n",
    "    assert k==k2, \"Size mismatch!\"\n",
    "    output = torch.zeros(h, w, dtype=m.dtype)\n",
    "    tpb = ns(x=16,y=16)\n",
    "    blocks = ns(x=math.ceil(w/tpb.x), y=math.ceil(h/tpb.y))\n",
    "    blk_kernel2d(matmul_bk, blocks, tpb,\n",
    "                 m.flatten(), n.flatten(), output.flatten(), h, w, k)\n",
    "    return output"
   ]
  },
  {
   "cell_type": "code",
   "execution_count": null,
   "id": "fd4aa3bd",
   "metadata": {},
   "outputs": [],
   "source": [
    "res = matmul_2d(m1, m2)\n",
    "torch.isclose(t1, res).all()"
   ]
  },
  {
   "cell_type": "code",
   "execution_count": null,
   "id": "23b4bc2a",
   "metadata": {},
   "outputs": [],
   "source": [
    "def matmul(a,b):\n",
    "    (ar,ac),(br,bc) = a.shape,b.shape\n",
    "    c = torch.zeros(ar, bc)\n",
    "    for i in range(ar): c[i] = (a[i,:,None] * b).sum(dim=0)\n",
    "    return c"
   ]
  },
  {
   "cell_type": "code",
   "execution_count": null,
   "id": "13803943",
   "metadata": {},
   "outputs": [],
   "source": [
    "torch.isclose(t1,matmul(m1, m2)).all()"
   ]
  },
  {
   "cell_type": "code",
   "execution_count": null,
   "id": "69063b74",
   "metadata": {},
   "outputs": [],
   "source": [
    "%time _=matmul(m1, m2)"
   ]
  },
  {
   "cell_type": "code",
   "execution_count": null,
   "id": "e333a30a",
   "metadata": {},
   "outputs": [],
   "source": [
    "m1 = x_train\n",
    "tr = matmul(m1, m2)\n",
    "tr.shape"
   ]
  },
  {
   "cell_type": "code",
   "execution_count": null,
   "id": "d70053a2",
   "metadata": {},
   "outputs": [],
   "source": [
    "%time _=matmul(m1, m2)"
   ]
  },
  {
   "cell_type": "code",
   "execution_count": null,
   "id": "2dfa6295",
   "metadata": {},
   "outputs": [],
   "source": [
    "ar,ac = m1.shape\n",
    "br,bc = m2.shape\n",
    "ar*bc*ac"
   ]
  },
  {
   "cell_type": "code",
   "execution_count": null,
   "id": "a6bdab5e",
   "metadata": {},
   "outputs": [],
   "source": [
    "# cuda kernel\n",
    "\n",
    "cuda_src = cuda_begin + r'''\n",
    "__global__ void matmul_k(float* m, float* n, float* out, int h, int w, int k) {\n",
    "    int r = blockIdx.y*blockDim.y + threadIdx.y;\n",
    "    int c = blockIdx.x*blockDim.x + threadIdx.x;\n",
    "\n",
    "    if (r>=h || c>=w) return;\n",
    "    float o = 0;\n",
    "    for (int i = 0; i<k; ++i) o += m[r*k+i] * n[i*w+c];\n",
    "    out[r*w+c] = o;\n",
    "}\n",
    "\n",
    "torch::Tensor matmul(torch::Tensor m, torch::Tensor n) {\n",
    "    CHECK_INPUT(m); CHECK_INPUT(n);\n",
    "    int h = m.size(0);\n",
    "    int w = n.size(1);\n",
    "    int k = m.size(1);\n",
    "    TORCH_CHECK(k==n.size(0), \"Size mismatch!\");\n",
    "    auto output = torch::zeros({h, w}, m.options());\n",
    "\n",
    "    dim3 tpb(16,16);\n",
    "    dim3 blocks(cdiv(w, tpb.x), cdiv(h, tpb.y));\n",
    "    matmul_k<<<blocks, tpb>>>(\n",
    "        m.data_ptr<float>(), n.data_ptr<float>(), output.data_ptr<float>(), h, w, k);\n",
    "    C10_CUDA_KERNEL_LAUNCH_CHECK();\n",
    "    return output;\n",
    "}\n",
    "'''\n",
    "cpp_src = \"torch::Tensor matmul(torch::Tensor m, torch::Tensor n);\"\n"
   ]
  },
  {
   "cell_type": "code",
   "execution_count": null,
   "id": "153283df",
   "metadata": {},
   "outputs": [],
   "source": [
    "module = load_cuda(cuda_src, cpp_src, ['matmul'])"
   ]
  },
  {
   "cell_type": "code",
   "execution_count": null,
   "id": "bdc840d1",
   "metadata": {},
   "outputs": [],
   "source": [
    "m1c,m2c = m1.contiguous().cuda(), m2.contiguous().cuda()\n",
    "torch.isclose(tr,module.matmul(m1c, m2c).cpu(), atol=1e-5).all()"
   ]
  },
  {
   "cell_type": "code",
   "execution_count": null,
   "id": "101bc7a3",
   "metadata": {},
   "outputs": [],
   "source": [
    "%%time\n",
    "res=module.matmul(m1c, m2c).cpu()\n",
    "res.shape"
   ]
  },
  {
   "cell_type": "code",
   "execution_count": null,
   "id": "5f79931f",
   "metadata": {},
   "outputs": [],
   "source": [
    "torch.isclose(tr,(m1c@m2c).cpu(), atol=1e-5).all()"
   ]
  },
  {
   "cell_type": "code",
   "execution_count": null,
   "id": "2ec5f78b",
   "metadata": {},
   "outputs": [],
   "source": [
    "%timeit -n 10 _=(m1c@m2c).cpu()"
   ]
  },
  {
   "cell_type": "code",
   "execution_count": null,
   "id": "ba8baf8d",
   "metadata": {},
   "outputs": [],
   "source": [
    "## rgb->grey cuda 3d\n",
    "cuda_src = cuda_begin + r'''\n",
    "__global__ void rgb_to_grayscale_kernel(unsigned char* x, unsigned char* out, int w, int h) {\n",
    "    int c = blockIdx.x*blockDim.x + threadIdx.x;\n",
    "    int r = blockIdx.y*blockDim.y + threadIdx.y;\n",
    "\n",
    "    if (c<w && r<h) {\n",
    "        int i = r*w + c;\n",
    "        int n = h*w;\n",
    "        out[i] = 0.2989*x[i] + 0.5870*x[i+n] + 0.1140*x[i+2*n];\n",
    "    }\n",
    "}\n",
    "\n",
    "torch::Tensor rgb_to_grayscale(torch::Tensor input) {\n",
    "    CHECK_INPUT(input);\n",
    "    int h = input.size(1);\n",
    "    int w = input.size(2);\n",
    "    torch::Tensor output = torch::empty({h,w}, input.options());\n",
    "    dim3 tpb(16,16);\n",
    "    dim3 blocks(cdiv(w, tpb.x), cdiv(h, tpb.y));\n",
    "    rgb_to_grayscale_kernel<<<blocks, tpb>>>(\n",
    "        input.data_ptr<unsigned char>(), output.data_ptr<unsigned char>(), w, h);\n",
    "    C10_CUDA_KERNEL_LAUNCH_CHECK();\n",
    "    return output;\n",
    "}'''\n",
    "\n",
    "cpp_src = \"torch::Tensor rgb_to_grayscale(torch::Tensor input);\""
   ]
  },
  {
   "cell_type": "code",
   "execution_count": null,
   "id": "d7587734",
   "metadata": {},
   "outputs": [],
   "source": [
    "module = load_cuda(cuda_src, cpp_src, ['rgb_to_grayscale'])"
   ]
  },
  {
   "cell_type": "code",
   "execution_count": null,
   "id": "c68196a8",
   "metadata": {},
   "outputs": [],
   "source": [
    "%time res = module.rgb_to_grayscale(imgc).cpu()"
   ]
  }
 ],
 "metadata": {
  "kernelspec": {
   "display_name": "base",
   "language": "python",
   "name": "python3"
  },
  "language_info": {
   "codemirror_mode": {
    "name": "ipython",
    "version": 3
   },
   "file_extension": ".py",
   "mimetype": "text/x-python",
   "name": "python",
   "nbconvert_exporter": "python",
   "pygments_lexer": "ipython3",
   "version": "3.11.9"
  }
 },
 "nbformat": 4,
 "nbformat_minor": 5
}
